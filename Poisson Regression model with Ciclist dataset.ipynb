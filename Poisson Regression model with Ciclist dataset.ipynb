{
 "cells": [
  {
   "cell_type": "code",
   "execution_count": 7,
   "metadata": {},
   "outputs": [],
   "source": [
    "# Load Libraries\n",
    "import pandas as pd\n",
    "from patsy import dmatrices\n",
    "import numpy as np\n",
    "import statsmodels.api as sm\n",
    "import matplotlib.pyplot as plt"
   ]
  },
  {
   "cell_type": "markdown",
   "metadata": {},
   "source": [
    "### Create a pandas DataFrame for the counts data"
   ]
  },
  {
   "cell_type": "code",
   "execution_count": 12,
   "metadata": {},
   "outputs": [
    {
     "data": {
      "text/html": [
       "<div>\n",
       "<style scoped>\n",
       "    .dataframe tbody tr th:only-of-type {\n",
       "        vertical-align: middle;\n",
       "    }\n",
       "\n",
       "    .dataframe tbody tr th {\n",
       "        vertical-align: top;\n",
       "    }\n",
       "\n",
       "    .dataframe thead th {\n",
       "        text-align: right;\n",
       "    }\n",
       "</style>\n",
       "<table border=\"1\" class=\"dataframe\">\n",
       "  <thead>\n",
       "    <tr style=\"text-align: right;\">\n",
       "      <th></th>\n",
       "      <th>HIGH_T</th>\n",
       "      <th>LOW_T</th>\n",
       "      <th>PRECIP</th>\n",
       "      <th>BB_COUNT</th>\n",
       "    </tr>\n",
       "    <tr>\n",
       "      <th>Date</th>\n",
       "      <th></th>\n",
       "      <th></th>\n",
       "      <th></th>\n",
       "      <th></th>\n",
       "    </tr>\n",
       "  </thead>\n",
       "  <tbody>\n",
       "    <tr>\n",
       "      <th>2017-04-01</th>\n",
       "      <td>46.0</td>\n",
       "      <td>37.0</td>\n",
       "      <td>0.00</td>\n",
       "      <td>606</td>\n",
       "    </tr>\n",
       "    <tr>\n",
       "      <th>2017-04-02</th>\n",
       "      <td>62.1</td>\n",
       "      <td>41.0</td>\n",
       "      <td>0.00</td>\n",
       "      <td>2021</td>\n",
       "    </tr>\n",
       "    <tr>\n",
       "      <th>2017-04-03</th>\n",
       "      <td>63.0</td>\n",
       "      <td>50.0</td>\n",
       "      <td>0.03</td>\n",
       "      <td>2470</td>\n",
       "    </tr>\n",
       "    <tr>\n",
       "      <th>2017-04-04</th>\n",
       "      <td>51.1</td>\n",
       "      <td>46.0</td>\n",
       "      <td>1.18</td>\n",
       "      <td>723</td>\n",
       "    </tr>\n",
       "    <tr>\n",
       "      <th>2017-04-05</th>\n",
       "      <td>63.0</td>\n",
       "      <td>46.0</td>\n",
       "      <td>0.00</td>\n",
       "      <td>2807</td>\n",
       "    </tr>\n",
       "    <tr>\n",
       "      <th>...</th>\n",
       "      <td>...</td>\n",
       "      <td>...</td>\n",
       "      <td>...</td>\n",
       "      <td>...</td>\n",
       "    </tr>\n",
       "    <tr>\n",
       "      <th>2017-10-27</th>\n",
       "      <td>62.1</td>\n",
       "      <td>48.0</td>\n",
       "      <td>0.00</td>\n",
       "      <td>3150</td>\n",
       "    </tr>\n",
       "    <tr>\n",
       "      <th>2017-10-28</th>\n",
       "      <td>68.0</td>\n",
       "      <td>55.9</td>\n",
       "      <td>0.00</td>\n",
       "      <td>2245</td>\n",
       "    </tr>\n",
       "    <tr>\n",
       "      <th>2017-10-29</th>\n",
       "      <td>64.9</td>\n",
       "      <td>61.0</td>\n",
       "      <td>3.03</td>\n",
       "      <td>183</td>\n",
       "    </tr>\n",
       "    <tr>\n",
       "      <th>2017-10-30</th>\n",
       "      <td>55.0</td>\n",
       "      <td>46.0</td>\n",
       "      <td>0.25</td>\n",
       "      <td>1428</td>\n",
       "    </tr>\n",
       "    <tr>\n",
       "      <th>2017-10-31</th>\n",
       "      <td>54.0</td>\n",
       "      <td>44.0</td>\n",
       "      <td>0.00</td>\n",
       "      <td>2727</td>\n",
       "    </tr>\n",
       "  </tbody>\n",
       "</table>\n",
       "<p>214 rows × 4 columns</p>\n",
       "</div>"
      ],
      "text/plain": [
       "            HIGH_T  LOW_T  PRECIP  BB_COUNT\n",
       "Date                                       \n",
       "2017-04-01    46.0   37.0    0.00       606\n",
       "2017-04-02    62.1   41.0    0.00      2021\n",
       "2017-04-03    63.0   50.0    0.03      2470\n",
       "2017-04-04    51.1   46.0    1.18       723\n",
       "2017-04-05    63.0   46.0    0.00      2807\n",
       "...            ...    ...     ...       ...\n",
       "2017-10-27    62.1   48.0    0.00      3150\n",
       "2017-10-28    68.0   55.9    0.00      2245\n",
       "2017-10-29    64.9   61.0    3.03       183\n",
       "2017-10-30    55.0   46.0    0.25      1428\n",
       "2017-10-31    54.0   44.0    0.00      2727\n",
       "\n",
       "[214 rows x 4 columns]"
      ]
     },
     "execution_count": 12,
     "metadata": {},
     "output_type": "execute_result"
    }
   ],
   "source": [
    "df = pd.read_csv('nyc_bb_bicyclist_counts.csv', header=0, infer_datetime_format=True, parse_dates=[0], index_col=[0])\n",
    "df"
   ]
  },
  {
   "cell_type": "markdown",
   "metadata": {},
   "source": [
    "### Add derived regression variables."
   ]
  },
  {
   "cell_type": "code",
   "execution_count": 13,
   "metadata": {},
   "outputs": [],
   "source": [
    "ds = df.index.to_series()\n",
    "df['MONTH'] = ds.dt.month\n",
    "df['DAY_OF_WEEK'] = ds.dt.dayofweek\n",
    "df['DAY'] = ds.dt.day"
   ]
  },
  {
   "cell_type": "markdown",
   "metadata": {},
   "source": [
    "### Create the training and testing data sets"
   ]
  },
  {
   "cell_type": "code",
   "execution_count": 14,
   "metadata": {},
   "outputs": [],
   "source": [
    "mask = np.random.rand(len(df)) < 0.8\n",
    "df_train = df[mask]\n",
    "df_test = df[~mask]"
   ]
  },
  {
   "cell_type": "code",
   "execution_count": 15,
   "metadata": {},
   "outputs": [
    {
     "name": "stdout",
     "output_type": "stream",
     "text": [
      "Training data set length=184\n",
      "Testing data set length=30\n"
     ]
    }
   ],
   "source": [
    "print('Training data set length='+str(len(df_train)))\n",
    "print('Testing data set length='+str(len(df_test)))"
   ]
  },
  {
   "cell_type": "markdown",
   "metadata": {},
   "source": [
    "### Setup the regression expression in the patsy notation. We are telling patsy that BB_COUNT is our dependent variable and it depends on the regression variables: Days, Day_of_Week,, Month, High_T, Low_T and PRECIP"
   ]
  },
  {
   "cell_type": "code",
   "execution_count": 16,
   "metadata": {},
   "outputs": [],
   "source": [
    "expr = \"\"\"BB_COUNT ~ DAY + DAY_OF_WEEK + MONTH + HIGH_T + LOW_T + PRECIP\"\"\""
   ]
  },
  {
   "cell_type": "markdown",
   "metadata": {},
   "source": [
    "### Set up the X and y matrices"
   ]
  },
  {
   "cell_type": "code",
   "execution_count": 19,
   "metadata": {},
   "outputs": [
    {
     "data": {
      "text/plain": [
       "(            BB_COUNT\n",
       " Date                \n",
       " 2017-04-04     723.0\n",
       " 2017-04-20    1567.0\n",
       " 2017-04-29    3315.0\n",
       " 2017-04-30    2225.0\n",
       " 2017-05-01    3084.0\n",
       " 2017-05-27    2609.0\n",
       " 2017-06-07    3211.0\n",
       " 2017-06-10    3066.0\n",
       " 2017-06-22    3368.0\n",
       " 2017-06-26    3386.0\n",
       " 2017-07-01    1848.0\n",
       " 2017-07-08    2718.0\n",
       " 2017-07-09    3048.0\n",
       " 2017-07-11    2929.0\n",
       " 2017-07-21    2751.0\n",
       " 2017-07-23    2321.0\n",
       " 2017-07-28    3123.0\n",
       " 2017-07-29    2074.0\n",
       " 2017-08-02    2637.0\n",
       " 2017-08-05    3409.0\n",
       " 2017-08-10    3423.0\n",
       " 2017-08-23    2994.0\n",
       " 2017-09-03    1004.0\n",
       " 2017-09-10    4960.0\n",
       " 2017-09-11    3657.0\n",
       " 2017-09-12    3497.0\n",
       " 2017-09-24    2543.0\n",
       " 2017-09-27    3216.0\n",
       " 2017-10-19    3265.0\n",
       " 2017-10-23    3189.0,\n",
       "             Intercept   DAY  DAY_OF_WEEK  MONTH  HIGH_T  LOW_T  PRECIP\n",
       " Date                                                                  \n",
       " 2017-04-04        1.0   4.0          1.0    4.0    51.1   46.0    1.18\n",
       " 2017-04-20        1.0  20.0          3.0    4.0    64.9   50.0    0.17\n",
       " 2017-04-29        1.0  29.0          5.0    4.0    84.0   64.0    0.06\n",
       " 2017-04-30        1.0  30.0          6.0    4.0    64.0   54.0    0.00\n",
       " 2017-05-01        1.0   1.0          0.0    5.0    72.0   50.0    0.00\n",
       " 2017-05-27        1.0  27.0          5.0    5.0    71.1   61.0    0.00\n",
       " 2017-06-07        1.0   7.0          2.0    6.0    66.9   54.0    0.00\n",
       " 2017-06-10        1.0  10.0          5.0    6.0    84.0   68.0    0.00\n",
       " 2017-06-22        1.0  22.0          3.0    6.0    82.0   70.0    0.00\n",
       " 2017-06-26        1.0  26.0          0.0    6.0    78.1   66.0    0.00\n",
       " 2017-07-01        1.0   1.0          5.0    7.0    84.9   72.0    0.23\n",
       " 2017-07-08        1.0   8.0          5.0    7.0    82.9   70.0    0.00\n",
       " 2017-07-09        1.0   9.0          6.0    7.0    81.0   69.1    0.00\n",
       " 2017-07-11        1.0  11.0          1.0    7.0    84.0   75.0    0.00\n",
       " 2017-07-21        1.0  21.0          4.0    7.0    91.0   77.0    0.00\n",
       " 2017-07-23        1.0  23.0          6.0    7.0    78.1   73.0    0.06\n",
       " 2017-07-28        1.0  28.0          4.0    7.0    84.9   73.0    0.00\n",
       " 2017-07-29        1.0  29.0          5.0    7.0    75.9   68.0    0.00\n",
       " 2017-08-02        1.0   2.0          2.0    8.0    86.0   69.1    0.09\n",
       " 2017-08-05        1.0   5.0          5.0    8.0    77.0   70.0    0.30\n",
       " 2017-08-10        1.0  10.0          3.0    8.0    82.9   69.1    0.00\n",
       " 2017-08-23        1.0  23.0          2.0    8.0    80.1   71.1    0.01\n",
       " 2017-09-03        1.0   3.0          6.0    9.0    69.1   60.1    0.74\n",
       " 2017-09-10        1.0  10.0          6.0    9.0    72.0   57.0    0.00\n",
       " 2017-09-11        1.0  11.0          0.0    9.0    75.9   55.0    0.00\n",
       " 2017-09-12        1.0  12.0          1.0    9.0    78.1   61.0    0.00\n",
       " 2017-09-24        1.0  24.0          6.0    9.0    90.0   69.1    0.00\n",
       " 2017-09-27        1.0  27.0          2.0    9.0    84.9   71.1    0.00\n",
       " 2017-10-19        1.0  19.0          3.0   10.0    70.0   55.9    0.00\n",
       " 2017-10-23        1.0  23.0          0.0   10.0    73.9   64.0    0.00)"
      ]
     },
     "execution_count": 19,
     "metadata": {},
     "output_type": "execute_result"
    }
   ],
   "source": [
    "y_train, X_train = dmatrices(expr, df_train, return_type='dataframe')\n",
    "y_test, X_test = dmatrices(expr, df_test, return_type='dataframe')\n",
    "y_train, X_train\n",
    "y_test, X_test"
   ]
  },
  {
   "cell_type": "markdown",
   "metadata": {},
   "source": [
    "### Using the statsmodels GLM class, train the Poisson regression model on the training data set."
   ]
  },
  {
   "cell_type": "code",
   "execution_count": 20,
   "metadata": {},
   "outputs": [],
   "source": [
    "poisson_training_results = sm.GLM(y_train, X_train, family_=sm.families.Poisson()).fit()"
   ]
  },
  {
   "cell_type": "markdown",
   "metadata": {},
   "source": [
    "### Print the training summary"
   ]
  },
  {
   "cell_type": "code",
   "execution_count": 21,
   "metadata": {},
   "outputs": [
    {
     "name": "stdout",
     "output_type": "stream",
     "text": [
      "                 Generalized Linear Model Regression Results                  \n",
      "==============================================================================\n",
      "Dep. Variable:               BB_COUNT   No. Observations:                  184\n",
      "Model:                            GLM   Df Residuals:                      177\n",
      "Model Family:                Gaussian   Df Model:                            6\n",
      "Link Function:               identity   Scale:                      3.2626e+05\n",
      "Method:                          IRLS   Log-Likelihood:                -1425.5\n",
      "Date:                Sat, 03 Jul 2021   Deviance:                   5.7749e+07\n",
      "Time:                        20:49:10   Pearson chi2:                 5.77e+07\n",
      "No. Iterations:                     3                                         \n",
      "Covariance Type:            nonrobust                                         \n",
      "===============================================================================\n",
      "                  coef    std err          z      P>|z|      [0.025      0.975]\n",
      "-------------------------------------------------------------------------------\n",
      "Intercept     350.4630    324.895      1.079      0.281    -286.319     987.245\n",
      "DAY             3.1015      4.889      0.634      0.526      -6.482      12.684\n",
      "DAY_OF_WEEK   -55.1230     21.427     -2.573      0.010     -97.120     -13.126\n",
      "MONTH          28.3238     21.774      1.301      0.193     -14.352      71.000\n",
      "HIGH_T         72.6988      9.273      7.840      0.000      54.523      90.874\n",
      "LOW_T         -48.8507     10.503     -4.651      0.000     -69.437     -28.264\n",
      "PRECIP       -921.5127    107.312     -8.587      0.000   -1131.840    -711.186\n",
      "===============================================================================\n"
     ]
    }
   ],
   "source": [
    "print((poisson_training_results.summary()))"
   ]
  },
  {
   "cell_type": "markdown",
   "metadata": {},
   "source": [
    "### Make some predictions on the test data set."
   ]
  },
  {
   "cell_type": "code",
   "execution_count": 25,
   "metadata": {},
   "outputs": [],
   "source": [
    "poisson_predctions = poisson_training_results.get_prediction(X_test)"
   ]
  },
  {
   "cell_type": "code",
   "execution_count": 27,
   "metadata": {},
   "outputs": [
    {
     "name": "stdout",
     "output_type": "stream",
     "text": [
      "                   mean     mean_se  mean_ci_lower  mean_ci_upper\n",
      "Date                                                             \n",
      "2017-04-04   801.432504  161.294511     485.301073    1117.563936\n",
      "2017-04-20  2479.378150   91.040253    2300.942533    2657.813768\n",
      "2017-04-29  3203.048830  133.968736    2940.474933    3465.622727\n",
      "2017-04-30  2240.849364  128.776901    1988.451275    2493.247453\n",
      "2017-05-01  3286.961518  148.499580    2995.907689    3578.015348\n",
      "2017-05-27  2489.198374   98.350630    2296.434681    2681.962067\n",
      "2017-06-07  2657.481725   73.049831    2514.306687    2800.656764\n",
      "2017-06-10  3060.656607   86.176327    2891.754110    3229.559104\n",
      "2017-06-22  2965.021444   72.915444    2822.109799    3107.933089\n",
      "2017-06-26  3054.673905   94.425049    2869.604210    3239.743600\n",
      "2017-07-01  2719.145484  110.334009    2502.894800    2935.396168\n",
      "2017-07-08  2905.107514   86.373303    2735.818951    3074.396078\n",
      "2017-07-09  2758.923903   97.178798    2568.456960    2949.390847\n",
      "2017-07-11  2970.619314   94.704740    2785.001434    3156.237194\n",
      "2017-07-21  3247.455012   92.678604    3065.808287    3429.101737\n",
      "2017-07-23  2345.709700  126.035986    2098.683706    2592.735693\n",
      "2017-07-28  3021.105518   93.332291    2838.177588    3204.033448\n",
      "2017-07-29  2559.048399  104.237586    2354.746484    2763.350314\n",
      "2017-08-02  3266.587261   99.149602    3072.257613    3460.916909\n",
      "2017-08-05  2218.750398  107.033330    2008.968927    2428.531869\n",
      "2017-08-10  3093.845969   65.111788    2966.229209    3221.462728\n",
      "2017-08-23  2878.815110   75.575329    2730.690187    3026.940032\n",
      "2017-09-03  1689.584089  125.273928    1444.051701    1935.116477\n",
      "2017-09-10  2755.477297   98.286851    2562.838609    2948.115985\n",
      "2017-09-11  3470.543481  132.826016    3210.209274    3730.877689\n",
      "2017-09-12  3285.355178   90.831462    3107.328785    3463.381572\n",
      "2017-09-24  3516.382634  125.658778    3270.095955    3762.669313\n",
      "2017-09-27  3277.714078   88.698741    3103.867740    3451.560415\n",
      "2017-10-19  2885.421682   93.048983    2703.049026    3067.794338\n",
      "2017-10-23  2951.031396  104.684048    2745.854433    3156.208359\n"
     ]
    }
   ],
   "source": [
    "predictions_summary_frame = poisson_predictions.summary_frame()\n",
    "print(predictions_summary_frame)"
   ]
  },
  {
   "cell_type": "code",
   "execution_count": 28,
   "metadata": {},
   "outputs": [],
   "source": [
    "predicted_counts = predictions_summary_frame['mean']\n",
    "actual_counts = y_test['BB_COUNT']"
   ]
  },
  {
   "cell_type": "markdown",
   "metadata": {},
   "source": [
    "### Lot the predicted counts versus the actual counts for the test data"
   ]
  },
  {
   "cell_type": "code",
   "execution_count": 32,
   "metadata": {},
   "outputs": [
    {
     "data": {
      "image/png": "[encoded data removed]",
      "text/plain": [
       "<Figure size 432x288 with 1 Axes>"
      ]
     },
     "metadata": {
      "needs_background": "light"
     },
     "output_type": "display_data"
    }
   ],
   "source": [
    "fig = plt.figure()\n",
    "fig.suptitle('Predicted versus actual bicyclist counts on the Brooklyn bridge')\n",
    "predicted, = plt.plot(X_test.index, predicted_counts, 'go-', label='Predicted counts')\n",
    "actual, = plt.plot(X_test.index, actual_counts, 'ro-', label='Actual counts')\n",
    "plt.legend(handles=[predicted, actual])\n",
    "plt.show()"
   ]
  },
  {
   "cell_type": "markdown",
   "metadata": {},
   "source": [
    "### Show scatter plot of actual versus predicted counts"
   ]
  },
  {
   "cell_type": "code",
   "execution_count": 35,
   "metadata": {},
   "outputs": [
    {
     "data": {
      "text/plain": [
       "<Figure size 432x288 with 0 Axes>"
      ]
     },
     "metadata": {},
     "output_type": "display_data"
    },
    {
     "data": {
      "image/png": "[encoded data removed]",
      "text/plain": [
       "<Figure size 432x288 with 1 Axes>"
      ]
     },
     "metadata": {
      "needs_background": "light"
     },
     "output_type": "display_data"
    }
   ],
   "source": [
    "plt.clf()\n",
    "fig = plt.figure()\n",
    "fig.suptitle('Scatter plot of Actual versus Predicted counts')\n",
    "plt.scatter(x=predicted_counts,y=actual_counts, marker='.')\n",
    "plt.xlabel('Predicted counts')\n",
    "plt.ylabel('Actual counts')\n",
    "plt.show()"
   ]
  },
  {
   "cell_type": "code",
   "execution_count": null,
   "metadata": {},
   "outputs": [],
   "source": [
    "#Initiate the model (using the default parameters)"
   ]
  },
  {
   "cell_type": "code",
   "execution_count": 37,
   "metadata": {},
   "outputs": [],
   "source": [
    "from sklearn.linear_model import LogisticRegression\n",
    "\n",
    "lg = LogisticRegression()"
   ]
  },
  {
   "cell_type": "code",
   "execution_count": 38,
   "metadata": {},
   "outputs": [
    {
     "name": "stderr",
     "output_type": "stream",
     "text": [
      "C:\\anaconda\\lib\\site-packages\\sklearn\\utils\\validation.py:760: DataConversionWarning: A column-vector y was passed when a 1d array was expected. Please change the shape of y to (n_samples, ), for example using ravel().\n",
      "  y = column_or_1d(y, warn=True)\n",
      "C:\\anaconda\\lib\\site-packages\\sklearn\\linear_model\\_logistic.py:940: ConvergenceWarning: lbfgs failed to converge (status=1):\n",
      "STOP: TOTAL NO. of ITERATIONS REACHED LIMIT.\n",
      "\n",
      "Increase the number of iterations (max_iter) or scale the data as shown in:\n",
      "    https://scikit-learn.org/stable/modules/preprocessing.html\n",
      "Please also refer to the documentation for alternative solver options:\n",
      "    https://scikit-learn.org/stable/modules/linear_model.html#logistic-regression\n",
      "  extra_warning_msg=_LOGISTIC_SOLVER_CONVERGENCE_MSG)\n"
     ]
    },
    {
     "data": {
      "text/plain": [
       "LogisticRegression(C=1.0, class_weight=None, dual=False, fit_intercept=True,\n",
       "                   intercept_scaling=1, l1_ratio=None, max_iter=100,\n",
       "                   multi_class='auto', n_jobs=None, penalty='l2',\n",
       "                   random_state=None, solver='lbfgs', tol=0.0001, verbose=0,\n",
       "                   warm_start=False)"
      ]
     },
     "execution_count": 38,
     "metadata": {},
     "output_type": "execute_result"
    }
   ],
   "source": [
    "#fit the model with data\n",
    "\n",
    "lg.fit(X_train, y_train)"
   ]
  },
  {
   "cell_type": "code",
   "execution_count": 40,
   "metadata": {},
   "outputs": [
    {
     "data": {
      "text/plain": [
       "array([2171., 2590., 2590., 1903., 2807., 2301., 3893., 2465., 2687.,\n",
       "       3174., 2467., 1892., 1892., 2860., 2840., 2283., 2301., 2301.,\n",
       "       3492., 1805., 3893., 3191., 1876., 2021., 3264., 3264., 2810.,\n",
       "       2565., 3169., 2751.])"
      ]
     },
     "execution_count": 40,
     "metadata": {},
     "output_type": "execute_result"
    }
   ],
   "source": [
    "y_pred = lg.predict(X_test)\n",
    "y_pred"
   ]
  },
  {
   "cell_type": "code",
   "execution_count": 43,
   "metadata": {},
   "outputs": [
    {
     "data": {
      "text/plain": [
       "array([[0, 0, 0, ..., 0, 0, 0],\n",
       "       [0, 0, 0, ..., 0, 0, 0],\n",
       "       [0, 0, 0, ..., 0, 0, 0],\n",
       "       ...,\n",
       "       [0, 0, 0, ..., 0, 0, 0],\n",
       "       [0, 0, 0, ..., 0, 0, 0],\n",
       "       [0, 0, 0, ..., 0, 0, 0]], dtype=int64)"
      ]
     },
     "execution_count": 43,
     "metadata": {},
     "output_type": "execute_result"
    }
   ],
   "source": [
    "# import the metrics class\n",
    "from sklearn import metrics\n",
    "\n",
    "cnf_matrix = metrics.confusion_matrix(y_test, y_pred)\n",
    "cnf_matrix"
   ]
  },
  {
   "cell_type": "code",
   "execution_count": 44,
   "metadata": {},
   "outputs": [],
   "source": [
    "import numpy as np\n",
    "import matplotlib.pyplot as plt\n",
    "import seaborn as sns\n",
    "%matplotlib inline"
   ]
  },
  {
   "cell_type": "code",
   "execution_count": 46,
   "metadata": {},
   "outputs": [
    {
     "data": {
      "text/plain": [
       "Text(0.5, 257.44, 'Predicted')"
      ]
     },
     "execution_count": 46,
     "metadata": {},
     "output_type": "execute_result"
    },
    {
     "data": {
      "image/png": "[encoded data removed]",
      "text/plain": [
       "<Figure size 432x288 with 2 Axes>"
      ]
     },
     "metadata": {
      "needs_background": "light"
     },
     "output_type": "display_data"
    }
   ],
   "source": [
    "class_names = [0, 1] #name of classes\n",
    "fig, ax = plt.subplots()\n",
    "tick_marks = np.arange(len(class_names))\n",
    "plt.xticks(tick_marks, class_names)\n",
    "plt.yticks(tick_marks, class_names)\n",
    "\n",
    "# Create a heatmap\n",
    "sns.heatmap(pd.DataFrame(cnf_matrix), annot=True, cmap='BrBG_r', fmt='g')\n",
    "ax.xaxis.set_label_position('top')\n",
    "plt.tight_layout()\n",
    "plt.title('Confusion matrix', y=1.1)\n",
    "plt.ylabel('Actual label')\n",
    "plt.xlabel('Predicted')"
   ]
  },
  {
   "cell_type": "code",
   "execution_count": null,
   "metadata": {},
   "outputs": [],
   "source": []
  }
 ],
 "metadata": {
  "kernelspec": {
   "display_name": "Python 3",
   "language": "python",
   "name": "python3"
  },
  "language_info": {
   "codemirror_mode": {
    "name": "ipython",
    "version": 3
   },
   "file_extension": ".py",
   "mimetype": "text/x-python",
   "name": "python",
   "nbconvert_exporter": "python",
   "pygments_lexer": "ipython3",
   "version": "3.7.6"
  }
 },
 "nbformat": 4,
 "nbformat_minor": 4
}
